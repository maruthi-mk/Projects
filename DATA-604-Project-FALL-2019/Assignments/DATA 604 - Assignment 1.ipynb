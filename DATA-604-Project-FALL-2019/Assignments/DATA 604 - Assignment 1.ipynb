{
 "cells": [
  {
   "cell_type": "markdown",
   "metadata": {},
   "source": [
    "# DATA 604 - Assignment 1 (20 marks total)\n",
    "\n",
    "Using only Python built-ins syntax and standard libraries, you will perform the following tasks. DO NOT import any additional libraries besides what has been provided."
   ]
  },
  {
   "cell_type": "markdown",
   "metadata": {},
   "source": [
    "### Student: Maruthi Kumar Mutnuri\n",
    "### Class: DATA 604 L01 (morning)"
   ]
  },
  {
   "cell_type": "markdown",
   "metadata": {},
   "source": [
    "## Part 1: Loading the data (4 marks)\n",
    "\n",
    "You should have each of the following files:\n",
    "\n",
    "*'Community_Services.json'\n",
    "* 'Communities_by_Ward.csv'\n",
    "* 'Census_by_Community_2019.csv'\n",
    "\n",
    "These datasets contain information licensed under the Open Government Licence – City of Calgary."
   ]
  },
  {
   "cell_type": "markdown",
   "metadata": {},
   "source": [
    "### Load 'Communities_by_Ward.csv' and 'Census_by_Community_2019.csv'\n",
    "\n",
    "First, let's load each of the .csvs into a list of tuples. You may use the [csv.reader()](https://docs.python.org/3/library/csv.html#csv.reader) function from python's csv module or basic Python file IO.\n",
    "\n",
    "Remember to close your files when you are done with them!"
   ]
  },
  {
   "cell_type": "code",
   "execution_count": 1,
   "metadata": {},
   "outputs": [],
   "source": [
    "import csv\n",
    "# Load 'Communities_by_Ward.csv' and 'Census_by_Community_2019.csv' into separate lists of tuples\n",
    "Communities_by_Ward = []\n",
    "Census_by_Community_2019 = []\n",
    "with open('Communities_by_Ward.csv', newline='') as csvfile:\n",
    "    Communities_by_Ward_csv = csv.reader(csvfile, delimiter=',')\n",
    "    for line in Communities_by_Ward_csv:\n",
    "        Communities_by_Ward.append(tuple(line))\n",
    "csvfile.close()\n",
    "\n",
    "with open('Census_by_Community_2019.csv', newline='') as csvfile1:\n",
    "    Census_by_Community_2019_csv = csv.reader(csvfile1, delimiter=',')\n",
    "    for line in Census_by_Community_2019_csv:\n",
    "        Census_by_Community_2019.append(tuple(line))\n",
    "csvfile1.close()"
   ]
  },
  {
   "cell_type": "markdown",
   "metadata": {},
   "source": [
    "### Convert Data Types\n",
    "\n",
    "To successfully complete this exercise, we will need to convert some columns found in each .csv to numeric literals. Recall that [Python contains methods](https://docs.python.org/3/library/stdtypes.html#numeric-types-int-float-complex)\n",
    " such as`int()` and `float().`\n",
    "\n",
    "If you go to [the source of 'Communities_by_Ward.csv'](https://data.calgary.ca/Government/Communities-by-Ward/jd78-wxjp) you can find metadata for the dataset including a section titled \"Columns in this Dataset\" which describe the datatypes of each column. Similarly, you should find this information for ['Census_by_Community_2019.csv' at this link](https://data.calgary.ca/Demographics/Census-by-Community-2019/rkfr-buzb)\n",
    "\n",
    "To help you out, in 'Communities_by_Ward.csv' the 1st and 6th column need to be converted to integers.\n",
    "Similarly, in 'Census_by_Community_2019.csv' the 2nd, 8th and 10th to 141st column should be integers.\n",
    "\n"
   ]
  },
  {
   "cell_type": "code",
   "execution_count": 2,
   "metadata": {
    "scrolled": true
   },
   "outputs": [
    {
     "name": "stdout",
     "output_type": "stream",
     "text": [
      "<class 'int'>\n",
      "<class 'int'>\n"
     ]
    }
   ],
   "source": [
    "for i in range (len(Communities_by_Ward)):\n",
    "    if i == 0:\n",
    "        continue\n",
    "    line = list(Communities_by_Ward[i])\n",
    "    line[0] = int(line[0])\n",
    "    line[5] = int(line[5])\n",
    "    Communities_by_Ward[i] = tuple(line)\n",
    "\n",
    "for i in range (len(Census_by_Community_2019)):\n",
    "    if i == 0:\n",
    "        continue\n",
    "    line = list(Census_by_Community_2019[i])\n",
    "    line[1] = int(line[1])\n",
    "    line[7] = int(line[7])    \n",
    "    for j in range (9, (len(line)-1)):\n",
    "        line[j] = int(line[j])\n",
    "    Census_by_Community_2019[i] = tuple(line)\n",
    "\n",
    "print (type(Communities_by_Ward[5][0]))\n",
    "print (type(Census_by_Community_2019[5][1]))"
   ]
  },
  {
   "cell_type": "markdown",
   "metadata": {},
   "source": [
    "### Load Community_Services.json\n",
    "\n",
    "You can use the `load()/ method [Python json module](https://docs.python.org/3/library/json.html) to read the 'Community_Services.json' file into a dictionary.\n",
    "\n",
    "For your reference, here is a link to the [source of 'Community_Services.json'](https://data.calgary.ca/Services-and-Amenities/Community-Services/x34e-bcjz)"
   ]
  },
  {
   "cell_type": "code",
   "execution_count": 3,
   "metadata": {},
   "outputs": [],
   "source": [
    "import json\n",
    "# Load 'Community_Services.json' into a dictionary.\n",
    "Community_Services = []\n",
    "with open('Community_Services.json') as json_file:\n",
    "    data = json.load(json_file)\n",
    "    for line in data:\n",
    "        Community_Services.append(line)"
   ]
  },
  {
   "cell_type": "markdown",
   "metadata": {},
   "source": [
    "### Convert Data Types\n",
    "\n",
    "If latitude and longitude have been read in as strings, we will need to convert the latitude and longitude of each object to floats."
   ]
  },
  {
   "cell_type": "code",
   "execution_count": 4,
   "metadata": {},
   "outputs": [
    {
     "name": "stdout",
     "output_type": "stream",
     "text": [
      "<class 'float'>\n",
      "<class 'float'>\n"
     ]
    }
   ],
   "source": [
    "for i in range (len(Community_Services)):\n",
    "    Community_Services[i]['latitude'] = float(Community_Services[i]['latitude'])\n",
    "    Community_Services[i]['longitude'] = float(Community_Services[i]['longitude'])\n",
    "print(type(Community_Services[5]['latitude']))\n",
    "print(type(Community_Services[10]['longitude']))"
   ]
  },
  {
   "cell_type": "markdown",
   "metadata": {},
   "source": [
    "## Part 2: Questions About Each Individual Datasets (4 marks)\n",
    "Now that you've loaded and converted all the data, let's run some queries.\n",
    "\n",
    "We will start by exploring each of the provided individual datasets in this section. If you haven't already, it would be valuable to have a look at what kind of data is in each of the datasets."
   ]
  },
  {
   "cell_type": "markdown",
   "metadata": {},
   "source": [
    "### Question 1\n",
    "Print the name and address of every 'Hospital' and 'PHS Clinic' that are North of (latitude) 51.0447° N"
   ]
  },
  {
   "cell_type": "code",
   "execution_count": 5,
   "metadata": {
    "scrolled": false
   },
   "outputs": [
    {
     "name": "stdout",
     "output_type": "stream",
     "text": [
      "The name and address of every Hospital and PHS Clinic that are North of (latitude) 51.0447° N are:\n",
      "Name: Foothills Hospital\n",
      "Address: 1403 - 29 ST NW\n",
      "Name: Alberta Children's Hospital\n",
      "Address: 2888 Shaganappi Trail NW\n",
      "Name: Peter Lougheed Medical Centre\n",
      "Address: 3500 - 26 AV NE\n",
      "Name: Thornhill Community Health Centre\n",
      "Address: 6617 Centre ST NW\n",
      "Name: Shaganappi Complex Health Centre\n",
      "Address: 3415 - 8 AV SW\n",
      "Name: East Calgary Health Centre\n",
      "Address: 4715 8 AV SE\n",
      "Name: Northwest Community Health Centre\n",
      "Address: 109 1829 Ranchlands BV NW\n",
      "Name: Village Square Community Health Centre\n",
      "Address: 2623 - 56 ST NE\n",
      "Name: North Hill Community Health Centre\n",
      "Address: 1527 19 ST NW\n"
     ]
    }
   ],
   "source": [
    "print('The name and address of every Hospital and PHS Clinic that are North of (latitude) 51.0447° N are:')\n",
    "for line in Community_Services:\n",
    "    if ((line['type'] == 'Hospital' or line['type'] == 'PHS Clinic') and line['latitude'] > 51.0447):\n",
    "        print('Name: ' + line['name'])\n",
    "        print('Address: ' + line['address']) "
   ]
  },
  {
   "cell_type": "markdown",
   "metadata": {},
   "source": [
    "### Question 2\n",
    "How many 'Community Centre' ammenities are there in the City?"
   ]
  },
  {
   "cell_type": "code",
   "execution_count": 6,
   "metadata": {},
   "outputs": [
    {
     "name": "stdout",
     "output_type": "stream",
     "text": [
      "The number of Community Centre ammenities in the City are:  107\n"
     ]
    }
   ],
   "source": [
    "count = 0\n",
    "for line in Community_Services:\n",
    "    if line['type'] == 'Community Centre':\n",
    "        count += 1        \n",
    "print('The number of Community Centre ammenities in the City are: ',count) "
   ]
  },
  {
   "cell_type": "markdown",
   "metadata": {},
   "source": [
    "### Question 3\n",
    "Which residential communities are 'developing' in ward 6?"
   ]
  },
  {
   "cell_type": "code",
   "execution_count": 7,
   "metadata": {
    "scrolled": true
   },
   "outputs": [
    {
     "name": "stdout",
     "output_type": "stream",
     "text": [
      "The residential communities which are developing in ward 6 are:\n",
      "WEST SPRINGS\n",
      "SPRINGBANK HILL\n",
      "ASPEN WOODS\n",
      "COUGAR RIDGE\n"
     ]
    }
   ],
   "source": [
    "print('The residential communities which are developing in ward 6 are:')\n",
    "for line in Communities_by_Ward:\n",
    "    if (line[0] == 6 and line[6] == 'DEVELOPING' and line[4] == 'Residential'):\n",
    "        print(line[1])"
   ]
  },
  {
   "cell_type": "markdown",
   "metadata": {},
   "source": [
    "### Question 4\n",
    "How many hotels are there in HILLHURST? (Column name is HOTEL_CNT)"
   ]
  },
  {
   "cell_type": "code",
   "execution_count": 8,
   "metadata": {},
   "outputs": [
    {
     "name": "stdout",
     "output_type": "stream",
     "text": [
      "Total number of hotels in HILLHURST are:  4\n"
     ]
    }
   ],
   "source": [
    "for line in Census_by_Community_2019:\n",
    "    if(line[3] == 'HILLHURST'):\n",
    "        for i in range(len(Census_by_Community_2019[0])):\n",
    "            if(Census_by_Community_2019[0][i] == 'HOTEL_CNT'):\n",
    "                print('Total number of hotels in HILLHURST are: ', line[i])\n",
    "                break\n",
    "        break"
   ]
  },
  {
   "cell_type": "markdown",
   "metadata": {},
   "source": [
    "## Part 3: Questions About Multiple Datasets (4 marks)\n",
    "Now that you are more familiar with the individual datasets, let's answer some questions that will require information in two or more datasets."
   ]
  },
  {
   "cell_type": "markdown",
   "metadata": {},
   "source": [
    "### Question 5\n",
    "What is the total number of hotels in the communities that are at least partly in Ward 4? (One approach is to generate a list of COMM_CODEs in ward 4, then sum the number of hotels in each of those communities)"
   ]
  },
  {
   "cell_type": "code",
   "execution_count": 9,
   "metadata": {},
   "outputs": [
    {
     "name": "stdout",
     "output_type": "stream",
     "text": [
      "Total number of hotels in communities that are in ward# 4 are:  3\n"
     ]
    }
   ],
   "source": [
    "COMM_CODES_WARD4 = []\n",
    "hotels = 0\n",
    "\n",
    "for line in Communities_by_Ward:\n",
    "    if (line[0] == 4):\n",
    "        COMM_CODES_WARD4.append(line[2]) \n",
    "\n",
    "for line in Census_by_Community_2019:\n",
    "    if(line[2] in COMM_CODES_WARD4):\n",
    "        for i in range(len(Census_by_Community_2019[0])):\n",
    "            if(Census_by_Community_2019[0][i] == 'HOTEL_CNT'):\n",
    "                hotels = hotels + line[i]\n",
    "                break\n",
    "print('Total number of hotels in communities that are in ward# 4 are: ', hotels) "
   ]
  },
  {
   "cell_type": "markdown",
   "metadata": {},
   "source": [
    "### Question 6\n",
    "What are the names of the community centres that are in communities which are at least partly in ward 12?"
   ]
  },
  {
   "cell_type": "code",
   "execution_count": 10,
   "metadata": {},
   "outputs": [
    {
     "name": "stdout",
     "output_type": "stream",
     "text": [
      "Community Center Names which are in Ward# 12:\n",
      "Name: Copperfield & Mahogany Community Center\n",
      "Name: Riverbend Community Centre\n"
     ]
    }
   ],
   "source": [
    "COMM_CODES_WARD12 = []\n",
    "\n",
    "for line in Communities_by_Ward:\n",
    "    if (line[0] == 12):\n",
    "        COMM_CODES_WARD12.append(line[2])\n",
    "        \n",
    "print('Community Center Names which are in Ward# 12:')\n",
    "\n",
    "for line in Community_Services:\n",
    "    if line['type'] == 'Community Centre' and line['comm_code'] in COMM_CODES_WARD12:\n",
    "        print('Name: ' + line['name'])"
   ]
  },
  {
   "cell_type": "markdown",
   "metadata": {},
   "source": [
    "## Part 4: Long Answer Questions (8 marks, 4 ea.)\n"
   ]
  },
  {
   "cell_type": "markdown",
   "metadata": {},
   "source": [
    "### Question 7\n",
    "What meta-data are each of the .csv and .json formats capable of storing? Discuss additional metadata which could be useful, especially in a larger system with more datasets and columns."
   ]
  },
  {
   "cell_type": "markdown",
   "metadata": {},
   "source": [
    "##### Metadata in csv:\n",
    "_A comma-separated values (CSV) file is a delimited text file that uses a comma to separate values. A CSV file stores tabular data (numbers and text) in plain text <sup>[1]</sup>._\n",
    "\n",
    "Metadata can be stored in CSV file format but to a limited extent and the standards for which are being develpoed recently in 2015 by W3C, below is an excerpt of their recommendations to maintain metadata for csv file.\n",
    "\n",
    "_Here we describe the different methods that can be used to locate metadata that provides those annotations. In the methods of locating metadata described here, metadata is provided within a single document. The syntax of such documents is defined in tabular-metadata. Metadata is located using a specific order of precedence <sup>[2]</sup>:_\n",
    "\n",
    "* _metadata supplied by the user of the implementation that is processing the tabular data, Overriding Metadata._\n",
    "* _metadata in a document linked to using a Link header associated with the tabular data file, Link Header._\n",
    "* _metadata located through default paths which may be overridden by a site-wide location configuration, Default Locations and Site-wide Location Configuration._\n",
    "* _metadata embedded within the tabular data file itself, Embedded Metadata._\n",
    "\n",
    "##### Metadata in json:  \n",
    "_JavaScript Object Notation (JSON) is an open-standard file format that uses human-readable text to transmit data objects consisting of attribute–value pairs and array data types (or any other serializable value)<sup> [3] </sup>._ \n",
    "\n",
    "All kinds of metadata can be stored in JSON files easily as JSON schema supports storing metadata. Some of the advantages of JSON schema regarding storing metadata are<sup> [4] </sup>.:\n",
    "* _Describes your existing data format(s).\n",
    "* Provides clear human- and machine- readable documentation.\n",
    "* Validates data which is useful for:\n",
    "    * Automated testing.\n",
    "    * Ensuring quality of client submitted data.\n",
    "\n",
    "##### Additional metadata:\n",
    "Data type, size(length), and description of the columns could be useful. Also source of data, Logs of data updation/modification and version control informtion.\n",
    "\n",
    "_Kimball et al.<sup> [5] </sup> refers to three main categories of metadata: Technical metadata, business metadata and process metadata. Technical metadata is primarily definitional, while business metadata and process metadata is primarily descriptive. The categories sometimes overlap <sup> [6] </sup>._\n",
    "\n",
    "_**Technical metadata** defines the objects and processes in a DW/BI system, as seen from a technical point of view. The technical metadata includes the system metadata, which defines the data structures such as tables, fields, data types, indexes and partitions in the relational engine, as well as databases, dimensions, measures, and data mining models. Technical metadata defines the data model and the way it is displayed for the users, with the reports, schedules, distribution lists, and user security rights._\n",
    "\n",
    "_**Business metadata** is content from the data warehouse described in more user-friendly terms. The business metadata tells you what data you have, where they come from, what they mean and what their relationship is to other data in the data warehouse. Business metadata may also serve as a documentation for the DW/BI system. Users who browse the data warehouse are primarily viewing the business metadata._\n",
    "\n",
    "_**Process metadata** is used to describe the results of various operations in the data warehouse. Within the ETL process, all key data from tasks is logged on execution. This includes start time, end time, CPU seconds used, disk reads, disk writes, and rows processed. When troubleshooting the ETL or query process, this sort of data becomes valuable. Process metadata is the fact measurement when building and using a DW/BI system. Some organizations make a living out of collecting and selling this sort of data to companies - in that case the process metadata becomes the business metadata for the fact and dimension tables. Collecting process metadata is in the interest of business people who can use the data to identify the users of their products, which products they are using, and what level of service they are receiving._\n",
    "\n",
    "##### References:\n",
    "[1]\"Comma-separated values\" Wikipedia. Retrieved on October 29, 2019.\n",
    "https://en.wikipedia.org/wiki/Comma-separated_values\n",
    "\n",
    "[2] \"Model for Tabular Data and Metadata on the Web - W3C Recommendation 17 December 2015\" (Section 5). Retrieved on October 29, 2019.\n",
    "https://www.w3.org/TR/tabular-data-model/\n",
    "\n",
    "[3]\"Comma-separated values\" Wikipedia. Retrieved on October 29, 2019.\n",
    "https://en.wikipedia.org/wiki/Comma-separated_values\n",
    "\n",
    "[4] \"JSON Schema\" (Advantages). Retrieved on October 29, 2019.\n",
    "https://json-schema.org/\n",
    "\n",
    "[5]Kimball, Ralph (2008). The Data Warehouse Lifecycle Toolkit (Second ed.). New York: Wiley. pp. 10, 115–117, 131–132, 140, 154–155. ISBN 978-0-470-14977-5.\n",
    "https://www.wiley.com/en-ca/The+Data+Warehouse+Lifecycle+Toolkit%2C+2nd+Edition-p-9780470149775\n",
    "\n",
    "[6]\"Metadata (section: Data warehousing)\" Wikipedia. Retrieved on October 29, 2019.\n",
    "https://en.m.wikipedia.org/wiki/Metadata"
   ]
  },
  {
   "cell_type": "markdown",
   "metadata": {},
   "source": [
    "### Question 8\n",
    "Using pandas, load 'Community_Services.json' and 'Communities_by_Ward.csv' and use DataFrames to answer Question 6. \n",
    "\n",
    "Compare the benefits of dataframes versus standard Python for querying or modifying data."
   ]
  },
  {
   "cell_type": "code",
   "execution_count": 11,
   "metadata": {
    "scrolled": true
   },
   "outputs": [
    {
     "name": "stdout",
     "output_type": "stream",
     "text": [
      "Community Center Names which are in Ward# 12:\n",
      "Name: Copperfield & Mahogany Community Center\n",
      "Name: Riverbend Community Centre\n"
     ]
    }
   ],
   "source": [
    "import pandas as pd\n",
    "Communities_by_Ward_df = pd.read_csv(\"Communities_by_Ward.csv\")\n",
    "Community_Services_df = pd.read_json(\"Community_Services.json\")\n",
    "Community_Services_df.rename(columns={\"comm_code\": \"COMM_CODE\"}, inplace = True)\n",
    "Names = pd.merge(Community_Services_df[Community_Services_df['type'] == 'Community Centre'], \\\n",
    "                 Communities_by_Ward_df[Communities_by_Ward_df['WARD_NUM'] == 12], \\\n",
    "                 on='COMM_CODE', how='inner')['name'].values\n",
    "print('Community Center Names which are in Ward# 12:')\n",
    "print('Name: ' + Names[0] + '\\n' + 'Name: ' + Names[1])"
   ]
  },
  {
   "cell_type": "markdown",
   "metadata": {},
   "source": [
    "##### Advantages of Using Pandas dataframes:\n",
    "\n",
    "Using Pandas dataframes is much easier and efficient way of coding when compared to standard Python lists for querying or modifying data. Pandas data frames has more functionality than standard Python. Python lists are faster than Pandas DataFrames for small datasets (or for large datasets that are going to remain completely static and that you can allocate all up-front), whereas Pandas DataFrames are faster than Python lists for large datasets especially if you want to manipulate.\n",
    "\n",
    "The following are some of the advantages of the Pandas library <sup> [7] </sup>:\n",
    "\n",
    "* **Data representation:** It can easily represent data in a form naturally suited for data analysis via its DataFrame and Series data structures in a concise manner.\n",
    "\n",
    "* **Data subsetting and filtering:** It provides for easy subsetting and filtering of data, procedures that are a staple of doing data analysis.\n",
    "\n",
    "* **Concise and clear code:** Its concise and clear API allows the user to focus more on the core goal at hand, rather than have to write a lot of scaffolding code in order to perform routine tasks. \n",
    "\n",
    "##### References:\n",
    "[7] Femi Anthony (2015). \"Mastering Pandas (Benefits of using pandas)\". © Packt Publishing Limited. ISBN 9781783981960  \n",
    "https://subscription.packtpub.com/book/big_data_and_business_intelligence/9781783981960/1/ch01lvl1sec11/benefits-of-using-pandas"
   ]
  }
 ],
 "metadata": {
  "kernelspec": {
   "display_name": "Python 3",
   "language": "python",
   "name": "python3"
  },
  "language_info": {
   "codemirror_mode": {
    "name": "ipython",
    "version": 3
   },
   "file_extension": ".py",
   "mimetype": "text/x-python",
   "name": "python",
   "nbconvert_exporter": "python",
   "pygments_lexer": "ipython3",
   "version": "3.7.4"
  }
 },
 "nbformat": 4,
 "nbformat_minor": 2
}
